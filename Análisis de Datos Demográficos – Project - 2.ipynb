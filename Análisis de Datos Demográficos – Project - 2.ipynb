{
 "cells": [
  {
   "cell_type": "markdown",
   "id": "47411553-4438-4051-8294-adf169abe000",
   "metadata": {},
   "source": [
    "## __Análisis de Datos Demográficos – Proyecto # 2__"
   ]
  },
  {
   "cell_type": "markdown",
   "id": "0bc7a652-4b9c-4b44-bba3-6c5b97f7dc64",
   "metadata": {},
   "source": [
    "#### __Autor:__ Angel Daniel Rodriguez Santos"
   ]
  },
  {
   "cell_type": "markdown",
   "id": "f49c34e0-1170-45b8-b905-b37f2645311d",
   "metadata": {},
   "source": [
    "----------"
   ]
  },
  {
   "cell_type": "markdown",
   "id": "f7218086-2cd7-4ad7-b0f9-0a30211cf6f8",
   "metadata": {},
   "source": [
    "Para iniciar, instalaremos la librería __Pandas__."
   ]
  },
  {
   "cell_type": "code",
   "execution_count": 1,
   "id": "4c73a563-7fca-4c8d-9819-01be220f909f",
   "metadata": {},
   "outputs": [],
   "source": [
    "import pandas as pd"
   ]
  },
  {
   "cell_type": "markdown",
   "id": "2e8d03ac-a45a-405b-9708-46b5e3004414",
   "metadata": {},
   "source": [
    "Ahora, vamos a extraer los datos desde un __archivo CSV__ utilizando la librería Pandas. Este archivo se encuentra en un repositorio de __GitHub__, no localmente en mi pc."
   ]
  },
  {
   "cell_type": "code",
   "execution_count": 2,
   "id": "89b4d5f9-480a-43ef-b3c5-454e61e0abb8",
   "metadata": {},
   "outputs": [
    {
     "data": {
      "text/html": [
       "<div>\n",
       "<style scoped>\n",
       "    .dataframe tbody tr th:only-of-type {\n",
       "        vertical-align: middle;\n",
       "    }\n",
       "\n",
       "    .dataframe tbody tr th {\n",
       "        vertical-align: top;\n",
       "    }\n",
       "\n",
       "    .dataframe thead th {\n",
       "        text-align: right;\n",
       "    }\n",
       "</style>\n",
       "<table border=\"1\" class=\"dataframe\">\n",
       "  <thead>\n",
       "    <tr style=\"text-align: right;\">\n",
       "      <th></th>\n",
       "      <th>age</th>\n",
       "      <th>workclass</th>\n",
       "      <th>fnlwgt</th>\n",
       "      <th>education</th>\n",
       "      <th>education-num</th>\n",
       "      <th>marital-status</th>\n",
       "      <th>occupation</th>\n",
       "      <th>relationship</th>\n",
       "      <th>race</th>\n",
       "      <th>sex</th>\n",
       "      <th>capital-gain</th>\n",
       "      <th>capital-loss</th>\n",
       "      <th>hours-per-week</th>\n",
       "      <th>native-country</th>\n",
       "      <th>salary</th>\n",
       "    </tr>\n",
       "  </thead>\n",
       "  <tbody>\n",
       "    <tr>\n",
       "      <th>0</th>\n",
       "      <td>39</td>\n",
       "      <td>State-gov</td>\n",
       "      <td>77516</td>\n",
       "      <td>Bachelors</td>\n",
       "      <td>13</td>\n",
       "      <td>Never-married</td>\n",
       "      <td>Adm-clerical</td>\n",
       "      <td>Not-in-family</td>\n",
       "      <td>White</td>\n",
       "      <td>Male</td>\n",
       "      <td>2174</td>\n",
       "      <td>0</td>\n",
       "      <td>40</td>\n",
       "      <td>United-States</td>\n",
       "      <td>&lt;=50K</td>\n",
       "    </tr>\n",
       "    <tr>\n",
       "      <th>1</th>\n",
       "      <td>50</td>\n",
       "      <td>Self-emp-not-inc</td>\n",
       "      <td>83311</td>\n",
       "      <td>Bachelors</td>\n",
       "      <td>13</td>\n",
       "      <td>Married-civ-spouse</td>\n",
       "      <td>Exec-managerial</td>\n",
       "      <td>Husband</td>\n",
       "      <td>White</td>\n",
       "      <td>Male</td>\n",
       "      <td>0</td>\n",
       "      <td>0</td>\n",
       "      <td>13</td>\n",
       "      <td>United-States</td>\n",
       "      <td>&lt;=50K</td>\n",
       "    </tr>\n",
       "    <tr>\n",
       "      <th>2</th>\n",
       "      <td>38</td>\n",
       "      <td>Private</td>\n",
       "      <td>215646</td>\n",
       "      <td>HS-grad</td>\n",
       "      <td>9</td>\n",
       "      <td>Divorced</td>\n",
       "      <td>Handlers-cleaners</td>\n",
       "      <td>Not-in-family</td>\n",
       "      <td>White</td>\n",
       "      <td>Male</td>\n",
       "      <td>0</td>\n",
       "      <td>0</td>\n",
       "      <td>40</td>\n",
       "      <td>United-States</td>\n",
       "      <td>&lt;=50K</td>\n",
       "    </tr>\n",
       "    <tr>\n",
       "      <th>3</th>\n",
       "      <td>53</td>\n",
       "      <td>Private</td>\n",
       "      <td>234721</td>\n",
       "      <td>11th</td>\n",
       "      <td>7</td>\n",
       "      <td>Married-civ-spouse</td>\n",
       "      <td>Handlers-cleaners</td>\n",
       "      <td>Husband</td>\n",
       "      <td>Black</td>\n",
       "      <td>Male</td>\n",
       "      <td>0</td>\n",
       "      <td>0</td>\n",
       "      <td>40</td>\n",
       "      <td>United-States</td>\n",
       "      <td>&lt;=50K</td>\n",
       "    </tr>\n",
       "    <tr>\n",
       "      <th>4</th>\n",
       "      <td>28</td>\n",
       "      <td>Private</td>\n",
       "      <td>338409</td>\n",
       "      <td>Bachelors</td>\n",
       "      <td>13</td>\n",
       "      <td>Married-civ-spouse</td>\n",
       "      <td>Prof-specialty</td>\n",
       "      <td>Wife</td>\n",
       "      <td>Black</td>\n",
       "      <td>Female</td>\n",
       "      <td>0</td>\n",
       "      <td>0</td>\n",
       "      <td>40</td>\n",
       "      <td>Cuba</td>\n",
       "      <td>&lt;=50K</td>\n",
       "    </tr>\n",
       "  </tbody>\n",
       "</table>\n",
       "</div>"
      ],
      "text/plain": [
       "   age         workclass  fnlwgt  education  education-num  \\\n",
       "0   39         State-gov   77516  Bachelors             13   \n",
       "1   50  Self-emp-not-inc   83311  Bachelors             13   \n",
       "2   38           Private  215646    HS-grad              9   \n",
       "3   53           Private  234721       11th              7   \n",
       "4   28           Private  338409  Bachelors             13   \n",
       "\n",
       "       marital-status         occupation   relationship   race     sex  \\\n",
       "0       Never-married       Adm-clerical  Not-in-family  White    Male   \n",
       "1  Married-civ-spouse    Exec-managerial        Husband  White    Male   \n",
       "2            Divorced  Handlers-cleaners  Not-in-family  White    Male   \n",
       "3  Married-civ-spouse  Handlers-cleaners        Husband  Black    Male   \n",
       "4  Married-civ-spouse     Prof-specialty           Wife  Black  Female   \n",
       "\n",
       "   capital-gain  capital-loss  hours-per-week native-country salary  \n",
       "0          2174             0              40  United-States  <=50K  \n",
       "1             0             0              13  United-States  <=50K  \n",
       "2             0             0              40  United-States  <=50K  \n",
       "3             0             0              40  United-States  <=50K  \n",
       "4             0             0              40           Cuba  <=50K  "
      ]
     },
     "execution_count": 2,
     "metadata": {},
     "output_type": "execute_result"
    }
   ],
   "source": [
    "url = \"https://raw.githubusercontent.com/a-mt/fcc-demographic-data-analyzer/master/adult.data.csv\"\n",
    "datos = pd.read_csv(url)\n",
    "datos.head()"
   ]
  },
  {
   "cell_type": "markdown",
   "id": "69d006f0-15ea-4eff-a59e-a7a5feb60baa",
   "metadata": {},
   "source": [
    "Ya teniendo los datos, responderemos las siguientes preguntas utilizando __Pandas__ también."
   ]
  },
  {
   "cell_type": "markdown",
   "id": "cb55f83d-e2a3-46bd-b052-6986898e1c13",
   "metadata": {},
   "source": [
    "Antes, verificaremos que la data este completa."
   ]
  },
  {
   "cell_type": "code",
   "execution_count": 3,
   "id": "3b51a02c-6ffe-4ddb-b817-69d0ae38ec1f",
   "metadata": {},
   "outputs": [
    {
     "name": "stdout",
     "output_type": "stream",
     "text": [
      "<class 'pandas.core.frame.DataFrame'>\n",
      "RangeIndex: 32561 entries, 0 to 32560\n",
      "Data columns (total 15 columns):\n",
      " #   Column          Non-Null Count  Dtype \n",
      "---  ------          --------------  ----- \n",
      " 0   age             32561 non-null  int64 \n",
      " 1   workclass       32561 non-null  object\n",
      " 2   fnlwgt          32561 non-null  int64 \n",
      " 3   education       32561 non-null  object\n",
      " 4   education-num   32561 non-null  int64 \n",
      " 5   marital-status  32561 non-null  object\n",
      " 6   occupation      32561 non-null  object\n",
      " 7   relationship    32561 non-null  object\n",
      " 8   race            32561 non-null  object\n",
      " 9   sex             32561 non-null  object\n",
      " 10  capital-gain    32561 non-null  int64 \n",
      " 11  capital-loss    32561 non-null  int64 \n",
      " 12  hours-per-week  32561 non-null  int64 \n",
      " 13  native-country  32561 non-null  object\n",
      " 14  salary          32561 non-null  object\n",
      "dtypes: int64(6), object(9)\n",
      "memory usage: 3.7+ MB\n"
     ]
    }
   ],
   "source": [
    "datos.info()"
   ]
  },
  {
   "cell_type": "markdown",
   "id": "c9a21b36-cb75-460f-a224-2b154cc539a7",
   "metadata": {},
   "source": [
    "Como vemos, la data esta completa, es decir, no existen valores nulos."
   ]
  },
  {
   "cell_type": "markdown",
   "id": "25f20172-f8fd-47eb-af5e-a14b7b94856f",
   "metadata": {},
   "source": [
    "Por lo que, ahora sí, comencemos:"
   ]
  },
  {
   "cell_type": "markdown",
   "id": "eba53643-c309-4e28-a192-a1339858eb7c",
   "metadata": {},
   "source": [
    "- ¿Cuántas personas de cada raza están representadas en este conjunto de datos? Debe ser una __Serie__ de __Pandas__ con nombres de raza como etiqueta de índice. (columna “race”)"
   ]
  },
  {
   "cell_type": "code",
   "execution_count": 4,
   "id": "77f94669-5b1e-4a50-84d9-00286bb47e59",
   "metadata": {},
   "outputs": [
    {
     "data": {
      "text/plain": [
       "Raza\n",
       "White                 27816\n",
       "Black                  3124\n",
       "Asian-Pac-Islander     1039\n",
       "Amer-Indian-Eskimo      311\n",
       "Other                   271\n",
       "Name: Personas, dtype: int64"
      ]
     },
     "execution_count": 4,
     "metadata": {},
     "output_type": "execute_result"
    }
   ],
   "source": [
    "personas = pd.Series(datos[\"race\"].value_counts(), name = \"Personas\")\n",
    "personas.index.name = \"Raza\"\n",
    "personas"
   ]
  },
  {
   "cell_type": "markdown",
   "id": "2119d255-49e2-4f48-b6e9-b1c970e1633c",
   "metadata": {},
   "source": [
    "- ¿Cuál es la edad promedio de los hombres?"
   ]
  },
  {
   "cell_type": "code",
   "execution_count": 5,
   "id": "8da75f49-8332-4bf9-b0a2-9bc98b310797",
   "metadata": {},
   "outputs": [
    {
     "data": {
      "text/plain": [
       "age    39.4\n",
       "Name: Promedio, dtype: float64"
      ]
     },
     "execution_count": 5,
     "metadata": {},
     "output_type": "execute_result"
    }
   ],
   "source": [
    "edad_promedio = round(pd.Series(datos.loc[datos[\"sex\"] == \"Male\", [\"age\"]].mean(), name = \"Promedio\"), 1)\n",
    "edad_promedio"
   ]
  },
  {
   "cell_type": "markdown",
   "id": "7bb0d488-e470-4908-aead-da90bba103f0",
   "metadata": {},
   "source": [
    "- ¿Cuá es el porcentaje de personas que tienen un título de licenciatura?"
   ]
  },
  {
   "cell_type": "code",
   "execution_count": 6,
   "id": "bb88e7b8-da7d-48c0-b86e-91ab2dc34000",
   "metadata": {},
   "outputs": [
    {
     "data": {
      "text/plain": [
       "16.4"
      ]
     },
     "execution_count": 6,
     "metadata": {},
     "output_type": "execute_result"
    }
   ],
   "source": [
    "licenciatura = datos[datos[\"education\"] == \"Bachelors\"]\n",
    "licenciatura = round(((100 * len(licenciatura)) / len (datos)), 1)\n",
    "licenciatura"
   ]
  },
  {
   "cell_type": "markdown",
   "id": "b9d79318-5a85-431f-abf3-a7917e7c6bc2",
   "metadata": {},
   "source": [
    "- ¿Qué porcentaje de personas con educación avanzada (licenciatura, maestría o doctorado) ganan más de 50K?"
   ]
  },
  {
   "cell_type": "code",
   "execution_count": 7,
   "id": "3ac3b8db-8c17-48dd-8761-e52f7c1b84b3",
   "metadata": {},
   "outputs": [
    {
     "data": {
      "text/plain": [
       "46.5"
      ]
     },
     "execution_count": 7,
     "metadata": {},
     "output_type": "execute_result"
    }
   ],
   "source": [
    "educacion_avanzada = datos[datos[\"education\"].isin([\"Bachelors\", \"Masters\", \"Doctorate\"])]\n",
    "salario = educacion_avanzada[educacion_avanzada[\"salary\"] == \">50K\"]\n",
    "porcentaje = round(((100 * len(salario)) / len(educacion_avanzada)), 1)\n",
    "porcentaje"
   ]
  },
  {
   "cell_type": "markdown",
   "id": "857ce2ea-2c1d-485e-a29d-b13f704b6b38",
   "metadata": {},
   "source": [
    "- ¿Qué porcentaje de personas sin educación avanzada ganan más de 50K?"
   ]
  },
  {
   "cell_type": "code",
   "execution_count": 8,
   "id": "413501bd-ae77-42bb-8dd6-391746889df8",
   "metadata": {},
   "outputs": [
    {
     "data": {
      "text/plain": [
       "17.4"
      ]
     },
     "execution_count": 8,
     "metadata": {},
     "output_type": "execute_result"
    }
   ],
   "source": [
    "educacion_inferior = datos[~(datos[\"education\"].isin([\"Bachelors\", \"Masters\", \"Doctorate\"]))]\n",
    "salario = educacion_inferior[educacion_inferior[\"salary\"] == \">50K\"]\n",
    "porcentaje = round(((100 * len(salario)) / len(educacion_inferior)), 1)\n",
    "porcentaje"
   ]
  },
  {
   "cell_type": "markdown",
   "id": "1e560b00-cc25-48ee-9032-13f76d7ba6a0",
   "metadata": {},
   "source": [
    "- ¿Cuá es el número mínimo de horas que una persona trabaja a la semana?"
   ]
  },
  {
   "cell_type": "code",
   "execution_count": 9,
   "id": "63d79983-d326-4dcb-9623-7e71c2278933",
   "metadata": {},
   "outputs": [
    {
     "name": "stdout",
     "output_type": "stream",
     "text": [
      "La hora de trabajo mínima es: 1 hora.\n"
     ]
    }
   ],
   "source": [
    "numero_minimo = print(\"La hora de trabajo mínima es:\", datos[\"hours-per-week\"].min(), \"hora.\")\n",
    "numero_minimo"
   ]
  },
  {
   "cell_type": "markdown",
   "id": "f7467f4e-1d9a-40a3-9770-e63c034b55aa",
   "metadata": {},
   "source": [
    "- ¿Qué porcentaje de personas que trabajan el número mínimo de horas a la semana, tienen un salario de más de 50K?"
   ]
  },
  {
   "cell_type": "code",
   "execution_count": 10,
   "id": "1211d964-f9d6-41d4-9c62-b968e9f18380",
   "metadata": {},
   "outputs": [
    {
     "data": {
      "text/plain": [
       "10.0"
      ]
     },
     "execution_count": 10,
     "metadata": {},
     "output_type": "execute_result"
    }
   ],
   "source": [
    "horas_minimas = datos[datos[\"hours-per-week\"] == 1]\n",
    "salario = horas_minimas[horas_minimas[\"salary\"] == \">50K\"]\n",
    "porcentaje = round(((100 * len(salario)) / len(horas_minimas)), 1)\n",
    "porcentaje"
   ]
  },
  {
   "cell_type": "markdown",
   "id": "9d458e27-995a-4fcf-839b-ad00c9b8b574",
   "metadata": {},
   "source": [
    "- ¿Qué país tiene el porcentaje más alto de personas que ganan más de 50K y cuál es ese país?"
   ]
  },
  {
   "cell_type": "code",
   "execution_count": 11,
   "id": "bff25284-8c6c-4e9d-84ce-fc58605b4a12",
   "metadata": {},
   "outputs": [
    {
     "data": {
      "text/plain": [
       "native-country    \n",
       "United-States         91.5\n",
       "?                      1.9\n",
       "Philippines            0.8\n",
       "Germany                0.6\n",
       "India                  0.5\n",
       "Canada                 0.5\n",
       "Mexico                 0.4\n",
       "England                0.4\n",
       "Italy                  0.3\n",
       "Cuba                   0.3\n",
       "Japan                  0.3\n",
       "China                  0.3\n",
       "Taiwan                 0.3\n",
       "Iran                   0.2\n",
       "South                  0.2\n",
       "Poland                 0.2\n",
       "France                 0.2\n",
       "Puerto-Rico            0.2\n",
       "Jamaica                0.1\n",
       "El-Salvador            0.1\n",
       "Greece                 0.1\n",
       "Cambodia               0.1\n",
       "Yugoslavia             0.1\n",
       "Hong                   0.1\n",
       "Ireland                0.1\n",
       "Vietnam                0.1\n",
       "Ecuador                0.1\n",
       "Haiti                  0.1\n",
       "Portugal               0.1\n",
       "Scotland               0.0\n",
       "Thailand               0.0\n",
       "Hungary                0.0\n",
       "Guatemala              0.0\n",
       "Laos                   0.0\n",
       "Dominican-Republic     0.0\n",
       "Peru                   0.0\n",
       "Trinadad&Tobago        0.0\n",
       "Columbia               0.0\n",
       "Nicaragua              0.0\n",
       "Honduras               0.0\n",
       "Name: Porcentaje, dtype: float64"
      ]
     },
     "execution_count": 11,
     "metadata": {},
     "output_type": "execute_result"
    }
   ],
   "source": [
    "porcentaje_pais = pd.Series(datos.loc[datos[\"salary\"] == \">50K\", [\"native-country\"]].value_counts(), name = \"Porcentaje\")\n",
    "porcentaje_pais = round((100 * porcentaje_pais) / porcentaje_pais.sum(), 1)\n",
    "porcentaje_pais"
   ]
  },
  {
   "cell_type": "markdown",
   "id": "be622291-ea6b-4479-8ee2-b3a5ef0df5e2",
   "metadata": {},
   "source": [
    "- Identifica la ocupación más popular para aquellos que ganan más de 50K en la India."
   ]
  },
  {
   "cell_type": "code",
   "execution_count": 12,
   "id": "33873adc-bbcf-44f0-a6e7-aa7d115531e6",
   "metadata": {},
   "outputs": [
    {
     "data": {
      "text/plain": [
       "Ocupación\n",
       "Prof-specialty      25\n",
       "Exec-managerial      8\n",
       "Other-service        2\n",
       "Tech-support         2\n",
       "Transport-moving     1\n",
       "Sales                1\n",
       "Adm-clerical         1\n",
       "Name: Cantidad de personas, dtype: int64"
      ]
     },
     "execution_count": 12,
     "metadata": {},
     "output_type": "execute_result"
    }
   ],
   "source": [
    "ocupacion_popular = pd.Series(datos[(datos[\"salary\"] == \">50K\") & (datos[\"native-country\"] == \"India\")][\"occupation\"].value_counts(), \n",
    "                              name = \"Cantidad de personas\")\n",
    "ocupacion_popular.index.name = \"Ocupación\"\n",
    "ocupacion_popular"
   ]
  },
  {
   "cell_type": "code",
   "execution_count": null,
   "id": "c55461fc-7b58-4731-8faa-eef7bec0b498",
   "metadata": {},
   "outputs": [],
   "source": []
  },
  {
   "cell_type": "code",
   "execution_count": null,
   "id": "6a2d672b-8d10-423a-9012-44c10a0bbf59",
   "metadata": {},
   "outputs": [],
   "source": []
  }
 ],
 "metadata": {
  "kernelspec": {
   "display_name": "Python 3 (ipykernel)",
   "language": "python",
   "name": "python3"
  },
  "language_info": {
   "codemirror_mode": {
    "name": "ipython",
    "version": 3
   },
   "file_extension": ".py",
   "mimetype": "text/x-python",
   "name": "python",
   "nbconvert_exporter": "python",
   "pygments_lexer": "ipython3",
   "version": "3.12.4"
  }
 },
 "nbformat": 4,
 "nbformat_minor": 5
}
